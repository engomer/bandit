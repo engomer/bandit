{
 "cells": [
  {
   "cell_type": "code",
   "execution_count": 6,
   "id": "06585798-4109-4ffc-b0ff-1bccebc11b63",
   "metadata": {},
   "outputs": [],
   "source": [
    "import numpy as np\n",
    "import matplotlib.pyplot as plt\n",
    "from enum import Enum"
   ]
  },
  {
   "cell_type": "code",
   "execution_count": 13,
   "id": "50544612-7a80-4c70-89e3-9520589ed631",
   "metadata": {},
   "outputs": [],
   "source": [
    "def sample_arm():\n",
    "    return np.random.randint(0, 2)\n",
    "\n",
    "\n",
    "def ts(alpha,beta,armToChoose):\n",
    "    sampled_means = np.random.beta(alpha, beta)\n",
    "    selected_arms = np.argsort(sampled_means)[-armToChoose:]\n",
    "    return selected_arms\n",
    "\n",
    "\n",
    "def ucb_lcb(numSelections, avgReward, numOfArms, armToChoose, roundNum):\n",
    "\n",
    "    if(not np.all(numSelections)):\n",
    "        selections  = np.random.choice(numOfArms, armToChoose, replace=False)\n",
    "    else:\n",
    "        UCB = avgReward + np.sqrt(2*np.log(roundNum)/numSelections)\n",
    "        LCB = avgReward - np.sqrt(2*np.log(roundNum)/numSelections)\n",
    "        selections = np.argpartition(UCB-LCB, -armToChoose)[-armToChoose:]\n",
    "        \n",
    "    return selections\n",
    "\n",
    "def ucb(numSelections, avgReward, numOfArms, armToChoose, roundNum, gainedReward):\n",
    "\n",
    "    if(not np.all(numSelections)):\n",
    "        selections  = np.random.choice(numOfArms, armToChoose, replace=False)\n",
    "    else:\n",
    "        UCB = avgReward + np.sqrt(2*np.log(roundNum)/numSelections)\n",
    "        selections = np.argpartition(UCB, -armToChoose)[-armToChoose:]\n",
    "    \n",
    "    for j in selections:\n",
    "        reward = sample_arm()\n",
    "        numSelections[j] = numSelections[j] + 1\n",
    "        avgReward[j] = avgReward[j] + (reward - avgReward[j])/numSelections[j]\n",
    "        gainedReward = gainedReward + reward\n",
    "\n",
    "    return numSelections, avgReward, gainedReward\n",
    "\n",
    "def optimal(numOfArms, armToChoose):\n",
    "    return np.arange(numOfArms)[-armToChoose:]\n",
    "\n",
    "class Algos(Enum):\n",
    "    UCB = 0\n",
    "    UCB_DELAYED = 1\n",
    "    TS = 2\n",
    "    TS_DELAYED = 3\n",
    "    OPTIMAL = 4\n",
    "    UCB_LCB = 5\n",
    "    UCB_LCB_DELAYED = 6  \n"
   ]
  },
  {
   "cell_type": "code",
   "execution_count": 24,
   "id": "7f2a5b67-4eaa-4638-a7d9-dbe640cb46c7",
   "metadata": {},
   "outputs": [
    {
     "name": "stdout",
     "output_type": "stream",
     "text": [
      "[0.         0.04       0.055      ... 0.04989484 0.04988488 0.04989495]\n"
     ]
    }
   ],
   "source": [
    "numOfArms = 100\n",
    "armToChoose = 10\n",
    "numOfRounds = 2000\n",
    "\n",
    "algoNum = 7\n",
    "\n",
    "avgRewardArray = np.zeros((algoNum, numOfRounds))\n",
    "selectionTimes = np.zeros((algoNum, numOfArms))\n",
    "numSelections = np.zeros((algoNum, numOfArms))\n",
    "avgReward = np.zeros((algoNum, numOfArms))\n",
    "gainedReward = np.zeros(algoNum)\n",
    "delays = np.zeros((algoNum, numOfArms))\n",
    "\n",
    "\n",
    "alpha = np.ones(numOfArms)\n",
    "alphad = np.ones(numOfArms)\n",
    "\n",
    "beta = np.ones(numOfArms)\n",
    "betad = np.ones(numOfArms)\n",
    "\n",
    "DELAYY = 2\n",
    "\n",
    "for i in range(1,numOfRounds):\n",
    "    # UCB\n",
    "    numSelections[Algos.UCB.value,:],  avgReward[Algos.UCB.value,:], gainedReward[Algos.UCB.value]= ucb(numSelections[Algos.UCB.value, :], avgReward[Algos.UCB.value, :], numOfArms, armToChoose, i, gainedReward[Algos.UCB.value])\n",
    "    numSelections[Aglos.UCB_DELAYED.value,:], avgReward[Algos.UCB_DELAYED.value,:], gainedReward[Algos.UCB_DELAYED.value, :] = ucb_delayed()\n",
    "\n",
    "    avgRewardArray[Algos.UCB.value,i] = gainedReward[Algos.UCB.value] / (i*numOfArms)\n",
    "    \n",
    "\n",
    "#print(avgRewardArray[Algos.UCB.value,:])"
   ]
  }
 ],
 "metadata": {
  "kernelspec": {
   "display_name": "Python 3 (ipykernel)",
   "language": "python",
   "name": "python3"
  },
  "language_info": {
   "codemirror_mode": {
    "name": "ipython",
    "version": 3
   },
   "file_extension": ".py",
   "mimetype": "text/x-python",
   "name": "python",
   "nbconvert_exporter": "python",
   "pygments_lexer": "ipython3",
   "version": "3.10.12"
  }
 },
 "nbformat": 4,
 "nbformat_minor": 5
}
